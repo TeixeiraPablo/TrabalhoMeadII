{
 "cells": [
  {
   "cell_type": "markdown",
   "metadata": {},
   "source": [
    "### Aplicação de Regressão logística para análise de variáveis e sua influência na eleição de candidatos em eleições no Brasil"
   ]
  },
  {
   "cell_type": "markdown",
   "metadata": {},
   "source": [
    "##### Foram utilizadas informações das eleições federais de 2014 e 2018 disponíveis no site do Tribunal Superior Eleitoral: http://www.tse.jus.br/eleicoes/estatisticas/repositorio-de-dados-eleitorais-1/repositorio-de-dados-eleitorais"
   ]
  },
  {
   "cell_type": "code",
   "execution_count": null,
   "metadata": {},
   "outputs": [],
   "source": [
    "# Importação de pacotes utilizados na análise\n",
    "import pandas as pd\n",
    "import numpy as py\n",
    "import matplotlib.pyplot as plt\n",
    "import seaborn as sns"
   ]
  },
  {
   "cell_type": "markdown",
   "metadata": {},
   "source": [
    "#### 1. Preparação das bases"
   ]
  },
  {
   "cell_type": "markdown",
   "metadata": {},
   "source": [
    "##### 1.1 Importação dos arquivos usados na análise"
   ]
  },
  {
   "cell_type": "code",
   "execution_count": null,
   "metadata": {},
   "outputs": [],
   "source": [
    "# Candidatos\n",
    "cand_2014 = pd.read_csv('consulta_cand_2014_BRASIL.csv', sep=';', encoding='latin1', low_memory=False)\n",
    "cand_2018 = pd.read_csv('consulta_cand_2018_BRASIL.csv', sep=';', encoding='latin1', low_memory=False)\n",
    "\n",
    "# Patrimônio\n",
    "bem_cand_2014 = pd.read_csv('bem_candidato_2014_BRASIL.csv', sep=';', encoding='latin1', low_memory=False)\n",
    "bem_cand_2018 = pd.read_csv('bem_candidato_2018_BRASIL.csv', sep=';', encoding='latin1', low_memory=False)\n",
    "\n",
    "# Despesas de campanha\n",
    "despesas_2014 = pd.read_csv('despesas_candidatos_2014_brasil.txt', sep=';', encoding='latin1', low_memory=False)\n",
    "despesas_2018 = pd.read_csv('despesas_contratadas_candidatos_2018_BRASIL.csv', sep=';', encoding='latin1', low_memory=False)"
   ]
  },
  {
   "cell_type": "markdown",
   "metadata": {},
   "source": [
    "##### 1.2 Verificação de dados básicos acerca das bases  importadas"
   ]
  },
  {
   "cell_type": "code",
   "execution_count": null,
   "metadata": {},
   "outputs": [],
   "source": [
    "print('Dimensões - Candidatos 2014: ', cand_2014.shape)\n",
    "print('Dimensões - Candidatos 2018: ', cand_2018.shape)\n",
    "print('Dimensões - Bens candidatos 2014: ', bem_cand_2014.shape)\n",
    "print('Dimensões - Bens candidatos 2018: ', bem_cand_2018.shape)\n",
    "print('Dimensões - Despesas Candidatos 2014: ', despesas_2014.shape)\n",
    "print('Dimensões - Despesas Candidatos 2018: ', despesas_2018.shape)"
   ]
  },
  {
   "cell_type": "code",
   "execution_count": null,
   "metadata": {},
   "outputs": [],
   "source": [
    "cand_2014.info()"
   ]
  },
  {
   "cell_type": "code",
   "execution_count": null,
   "metadata": {},
   "outputs": [],
   "source": [
    "cand_2014.head()"
   ]
  },
  {
   "cell_type": "code",
   "execution_count": null,
   "metadata": {},
   "outputs": [],
   "source": [
    "cand_2018.info()"
   ]
  },
  {
   "cell_type": "code",
   "execution_count": null,
   "metadata": {},
   "outputs": [],
   "source": [
    "cand_2018.head()"
   ]
  },
  {
   "cell_type": "code",
   "execution_count": null,
   "metadata": {},
   "outputs": [],
   "source": [
    "bem_cand_2014.info()"
   ]
  },
  {
   "cell_type": "code",
   "execution_count": null,
   "metadata": {},
   "outputs": [],
   "source": [
    "bem_cand_2014.head()"
   ]
  },
  {
   "cell_type": "code",
   "execution_count": null,
   "metadata": {},
   "outputs": [],
   "source": [
    "bem_cand_2018.info()"
   ]
  },
  {
   "cell_type": "code",
   "execution_count": null,
   "metadata": {},
   "outputs": [],
   "source": [
    "bem_cand_2018.head()"
   ]
  },
  {
   "cell_type": "code",
   "execution_count": null,
   "metadata": {},
   "outputs": [],
   "source": [
    "despesas_2014.info()"
   ]
  },
  {
   "cell_type": "code",
   "execution_count": null,
   "metadata": {},
   "outputs": [],
   "source": [
    "despesas_2014.head()"
   ]
  },
  {
   "cell_type": "code",
   "execution_count": null,
   "metadata": {},
   "outputs": [],
   "source": [
    "despesas_2018.info()"
   ]
  },
  {
   "cell_type": "code",
   "execution_count": null,
   "metadata": {},
   "outputs": [],
   "source": [
    "despesas_2018.head()"
   ]
  },
  {
   "cell_type": "markdown",
   "metadata": {},
   "source": [
    "##### 1.3 Base Candidatos"
   ]
  },
  {
   "cell_type": "code",
   "execution_count": null,
   "metadata": {},
   "outputs": [],
   "source": [
    "# Para a análise serão mantidas apenas as colunas consideradas úteis ao estudo. \n",
    "\n",
    "cand_2014.drop(columns=['DT_GERACAO', 'HH_GERACAO', 'CD_TIPO_ELEICAO', 'NM_TIPO_ELEICAO', 'NR_TURNO', 'CD_ELEICAO', \n",
    "                        'DS_ELEICAO', 'DT_ELEICAO', 'SG_UE', 'NR_CANDIDATO', 'NM_URNA_CANDIDATO', 'NM_SOCIAL_CANDIDATO',\n",
    "                        'NM_EMAIL', 'TP_AGREMIACAO', 'NR_PARTIDO', 'SG_PARTIDO', 'NM_PARTIDO', 'SQ_COLIGACAO', 'NM_COLIGACAO', \n",
    "                        'DS_COMPOSICAO_COLIGACAO', 'SG_UF_NASCIMENTO', 'CD_MUNICIPIO_NASCIMENTO', 'NM_MUNICIPIO_NASCIMENTO', \n",
    "                        'DT_NASCIMENTO', 'NR_TITULO_ELEITORAL_CANDIDATO', 'NR_DESPESA_MAX_CAMPANHA', 'ST_DECLARAR_BENS',\n",
    "                        'NR_PROTOCOLO_CANDIDATURA', 'NR_PROCESSO'],inplace=True) \n",
    "\n",
    "cand_2018.drop(columns=['DT_GERACAO', 'HH_GERACAO', 'CD_TIPO_ELEICAO', 'NM_TIPO_ELEICAO', 'NR_TURNO', 'CD_ELEICAO', \n",
    "                        'DS_ELEICAO', 'DT_ELEICAO', 'SG_UE', 'NR_CANDIDATO', 'NM_URNA_CANDIDATO', 'NM_SOCIAL_CANDIDATO',\n",
    "                        'NM_EMAIL', 'TP_AGREMIACAO', 'NR_PARTIDO', 'SG_PARTIDO', 'NM_PARTIDO', 'SQ_COLIGACAO', 'NM_COLIGACAO', \n",
    "                        'DS_COMPOSICAO_COLIGACAO', 'SG_UF_NASCIMENTO', 'CD_MUNICIPIO_NASCIMENTO', 'NM_MUNICIPIO_NASCIMENTO', \n",
    "                        'DT_NASCIMENTO', 'NR_TITULO_ELEITORAL_CANDIDATO', 'NR_DESPESA_MAX_CAMPANHA', 'ST_DECLARAR_BENS',\n",
    "                        'NR_PROTOCOLO_CANDIDATURA', 'NR_PROCESSO'],inplace=True) "
   ]
  },
  {
   "cell_type": "code",
   "execution_count": null,
   "metadata": {},
   "outputs": [],
   "source": [
    "cand_2014.columns"
   ]
  },
  {
   "cell_type": "code",
   "execution_count": null,
   "metadata": {},
   "outputs": [],
   "source": [
    "cand_2018.columns"
   ]
  },
  {
   "cell_type": "code",
   "execution_count": null,
   "metadata": {},
   "outputs": [],
   "source": [
    "# Na base de dados, candidatos que vão para o segundo turno são registrados duas vezes. É necessário excluir este registro afim \n",
    "# de se evitar duplicidades, inconsistências (CD_SIT_TOT_TURNO = 6)\n",
    "\n",
    "cand_2014 = cand_2014[cand_2014.CD_SIT_TOT_TURNO != 6]\n",
    "cand_2018 = cand_2018[cand_2018.CD_SIT_TOT_TURNO != 6]\n",
    "\n",
    "\n",
    "# Outros filtros podem ser aplicados aqui"
   ]
  },
  {
   "cell_type": "markdown",
   "metadata": {},
   "source": [
    "##### 1.4 Base Bens de candidatos"
   ]
  },
  {
   "cell_type": "code",
   "execution_count": null,
   "metadata": {},
   "outputs": [],
   "source": [
    "# Formatação dos dados do campo VR_BEM_CANDIDATO. Os dados em formato numérico nacional podem apresentar conflitos com o \n",
    "# padrão americano.\n",
    "bem_cand_2014['VR_BEM_CANDIDATO'] = bem_cand_2014['VR_BEM_CANDIDATO'].str.replace(',','.').astype(float)"
   ]
  },
  {
   "cell_type": "code",
   "execution_count": null,
   "metadata": {},
   "outputs": [],
   "source": [
    "bem_cand_2018['VR_BEM_CANDIDATO'] = bem_cand_2018['VR_BEM_CANDIDATO'].str.replace(',','.').astype(float)"
   ]
  },
  {
   "cell_type": "code",
   "execution_count": null,
   "metadata": {},
   "outputs": [],
   "source": [
    "# Agregação dos bens dos candidatos por SQ_CANDIDATO\n",
    "bem_2014 = bem_cand_2014.groupby('SQ_CANDIDATO').sum()\n",
    "bem_2014.drop(columns=['ANO_ELEICAO','CD_TIPO_ELEICAO','CD_ELEICAO','NR_ORDEM_CANDIDATO','CD_TIPO_BEM_CANDIDATO'],inplace=True)"
   ]
  },
  {
   "cell_type": "code",
   "execution_count": null,
   "metadata": {},
   "outputs": [],
   "source": [
    "bem_2018 = bem_cand_2018.groupby('SQ_CANDIDATO').sum()\n",
    "bem_2018.drop(columns=['ANO_ELEICAO','CD_TIPO_ELEICAO','CD_ELEICAO','NR_ORDEM_CANDIDATO','CD_TIPO_BEM_CANDIDATO'],inplace=True)"
   ]
  },
  {
   "cell_type": "code",
   "execution_count": null,
   "metadata": {},
   "outputs": [],
   "source": [
    "bem_2014.head()"
   ]
  },
  {
   "cell_type": "code",
   "execution_count": null,
   "metadata": {},
   "outputs": [],
   "source": [
    "bem_2018.head()"
   ]
  },
  {
   "cell_type": "markdown",
   "metadata": {},
   "source": [
    "##### 1.5 Base despesas de campanha"
   ]
  },
  {
   "cell_type": "code",
   "execution_count": null,
   "metadata": {},
   "outputs": [],
   "source": [
    "# Formatação dos dados do campo VR_BEM_CANDIDATO. Os dados em formato numérico nacional podem apresentar conflitos com o \n",
    "# padrão americano.\n",
    "despesas_2014['Valor despesa'] = despesas_2014['Valor despesa'].str.replace(',','.').astype(float)"
   ]
  },
  {
   "cell_type": "code",
   "execution_count": null,
   "metadata": {},
   "outputs": [],
   "source": [
    "despesas_2018['VR_DESPESA_CONTRATADA'] = despesas_2018['VR_DESPESA_CONTRATADA'].str.replace(',','.').astype(float)"
   ]
  },
  {
   "cell_type": "code",
   "execution_count": null,
   "metadata": {},
   "outputs": [],
   "source": [
    "# Ajustes dos nomes da base 2014\n",
    "novo_nome_coluna = ['Cód. Eleição', 'Desc. Eleição', 'Data e hora', 'CNPJ Prestador Conta', 'SQ_CANDIDATO', 'UF', \n",
    "                    'Sigla  Partido', 'Número candidato', 'Cargo', 'Nome candidato', 'CPF do candidato', 'Tipo do documento', \n",
    "                    'Número do documento', 'CPF/CNPJ do fornecedor', 'Nome do fornecedor', \n",
    "                    'Nome do fornecedor (Receita Federal)', 'Cod setor econômico do fornecedor', \n",
    "                    'Setor econômico do fornecedor', 'Data da despesa', 'VR_DESPESA_CONTRATADA', 'Tipo despesa', \n",
    "                    'Descriçao da despesa']\n",
    "despesas_2014.columns = novo_nome_coluna\n",
    "despesas_2014.columns"
   ]
  },
  {
   "cell_type": "code",
   "execution_count": null,
   "metadata": {},
   "outputs": [],
   "source": [
    "# Agrupamento das despesas por candidato\n",
    "despesas_2014 = despesas_2014.groupby('SQ_CANDIDATO').sum()"
   ]
  },
  {
   "cell_type": "code",
   "execution_count": null,
   "metadata": {},
   "outputs": [],
   "source": [
    "despesas_2018 = despesas_2018.groupby('SQ_CANDIDATO').sum()"
   ]
  },
  {
   "cell_type": "code",
   "execution_count": null,
   "metadata": {},
   "outputs": [],
   "source": [
    "# Exclusão das colunas não utilizadas na análise\n",
    "despesas_2014.drop(columns=['Cód. Eleição','CNPJ Prestador Conta', 'Número candidato', 'CPF do candidato'], inplace=True)"
   ]
  },
  {
   "cell_type": "code",
   "execution_count": null,
   "metadata": {},
   "outputs": [],
   "source": [
    "despesas_2018.drop(columns=['ANO_ELEICAO', 'CD_TIPO_ELEICAO', 'CD_ELEICAO', 'ST_TURNO', 'SQ_PRESTADOR_CONTAS', \n",
    "                            'NR_CNPJ_PRESTADOR_CONTA', 'CD_CARGO', 'NR_CANDIDATO', 'NR_CPF_CANDIDATO', \n",
    "                            'NR_CPF_VICE_CANDIDATO', 'NR_PARTIDO', 'CD_TIPO_FORNECEDOR', 'CD_CNAE_FORNECEDOR', \n",
    "                            'NR_CPF_CNPJ_FORNECEDOR', 'CD_ESFERA_PART_FORNECEDOR', 'CD_MUNICIPIO_FORNECEDOR', \n",
    "                            'SQ_CANDIDATO_FORNECEDOR', 'NR_CANDIDATO_FORNECEDOR', 'CD_CARGO_FORNECEDOR', \n",
    "                            'NR_PARTIDO_FORNECEDOR', 'CD_ORIGEM_DESPESA', 'SQ_DESPESA'], inplace=True)"
   ]
  },
  {
   "cell_type": "code",
   "execution_count": null,
   "metadata": {},
   "outputs": [],
   "source": [
    "despesas_2014.head()"
   ]
  },
  {
   "cell_type": "code",
   "execution_count": null,
   "metadata": {},
   "outputs": [],
   "source": [
    "despesas_2018.head()"
   ]
  },
  {
   "cell_type": "markdown",
   "metadata": {},
   "source": [
    "##### 1.6 União das bases de candidato, despesas e bem"
   ]
  },
  {
   "cell_type": "code",
   "execution_count": null,
   "metadata": {},
   "outputs": [],
   "source": [
    "cand_2014 = pd.merge(cand_2014, bem_2014, on='SQ_CANDIDATO', how='left')\n",
    "cand_2014 = pd.merge(cand_2014, despesas_2014, on='SQ_CANDIDATO', how='left')"
   ]
  },
  {
   "cell_type": "code",
   "execution_count": null,
   "metadata": {},
   "outputs": [],
   "source": [
    "cand_2018 = pd.merge(cand_2018, bem_2018, on='SQ_CANDIDATO', how='left')\n",
    "cand_2018 = pd.merge(cand_2018, despesas_2018, on='SQ_CANDIDATO', how='left')"
   ]
  },
  {
   "cell_type": "markdown",
   "metadata": {},
   "source": [
    "##### 1.7 União das bases 2014 e 2018"
   ]
  },
  {
   "cell_type": "code",
   "execution_count": null,
   "metadata": {},
   "outputs": [],
   "source": [
    "# União das duas bases\n",
    "cand = cand_2014.append(cand_2018)\n",
    "cand.shape"
   ]
  },
  {
   "cell_type": "code",
   "execution_count": null,
   "metadata": {},
   "outputs": [],
   "source": [
    "# Criação da variável TARGET para análise de dados. CD_SIT_TOT_TURNO = 1 ELEITO, 2 ELEITO POR QP e 3 ELEITO POR MÉDIA\n",
    "\n",
    "ELEITO = []\n",
    "\n",
    "for i in cand['CD_SIT_TOT_TURNO']:\n",
    "    if i == 1:\n",
    "        ELEITO.append('sim')\n",
    "    elif i == 2:\n",
    "        ELEITO.append('sim')\n",
    "    elif i == 3:\n",
    "        ELEITO.append('sim')\n",
    "    else:\n",
    "        ELEITO.append('nao')\n",
    "        \n",
    "cand['ELEITO'] = ELEITO\n"
   ]
  },
  {
   "cell_type": "code",
   "execution_count": null,
   "metadata": {},
   "outputs": [],
   "source": [
    "################################# A base \"cand\" será utilizada para a realização das análises ###############################\n",
    "cand.head()"
   ]
  },
  {
   "cell_type": "markdown",
   "metadata": {},
   "source": [
    "### 2. Tratamento de outliers"
   ]
  },
  {
   "cell_type": "code",
   "execution_count": null,
   "metadata": {},
   "outputs": [],
   "source": []
  },
  {
   "cell_type": "markdown",
   "metadata": {},
   "source": [
    "### 3. Análise Exploratória"
   ]
  },
  {
   "cell_type": "code",
   "execution_count": null,
   "metadata": {},
   "outputs": [],
   "source": []
  },
  {
   "cell_type": "markdown",
   "metadata": {},
   "source": [
    "### 4. Separação das bases de treino e teste (usar oversampling)"
   ]
  },
  {
   "cell_type": "code",
   "execution_count": null,
   "metadata": {},
   "outputs": [],
   "source": []
  },
  {
   "cell_type": "markdown",
   "metadata": {},
   "source": [
    "### 5. Aplicação do modelo (gstatsmodels)"
   ]
  },
  {
   "cell_type": "code",
   "execution_count": null,
   "metadata": {},
   "outputs": [],
   "source": []
  }
 ],
 "metadata": {
  "kernelspec": {
   "display_name": "Python 3",
   "language": "python",
   "name": "python3"
  },
  "language_info": {
   "codemirror_mode": {
    "name": "ipython",
    "version": 3
   },
   "file_extension": ".py",
   "mimetype": "text/x-python",
   "name": "python",
   "nbconvert_exporter": "python",
   "pygments_lexer": "ipython3",
   "version": "3.6.5"
  }
 },
 "nbformat": 4,
 "nbformat_minor": 2
}
